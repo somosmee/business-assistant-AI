{
 "cells": [
  {
   "cell_type": "markdown",
   "metadata": {},
   "source": [
    "# Classify Intent"
   ]
  },
  {
   "cell_type": "code",
   "execution_count": 81,
   "metadata": {},
   "outputs": [],
   "source": [
    "import unicodedata\n",
    "import pandas as pd\n",
    "from string import punctuation\n",
    "from nltk.stem import RSLPStemmer\n",
    "from nltk.corpus import stopwords\n",
    "from nltk.tokenize import word_tokenize\n",
    "from sklearn.naive_bayes import MultinomialNB\n",
    "from sklearn.feature_extraction.text import TfidfVectorizer\n",
    "\n",
    "clf = MultinomialNB()\n",
    "stemmer = RSLPStemmer()\n",
    "vectorizer = TfidfVectorizer()"
   ]
  },
  {
   "cell_type": "code",
   "execution_count": 115,
   "metadata": {},
   "outputs": [],
   "source": [
    "df = pd.DataFrame([\n",
    "     # sales\n",
    "     ['vendas do último mês', 'sales'],\n",
    "     ['quanto vendi esse mês', 'sales'],\n",
    "     ['quanto vendi no mês de agosto', 'sales'],\n",
    "     ['quais são os 10 produtos que mais vendi esse ano', 'sales'],\n",
    "     ['quais são os 10 produtos que mais vendi esse mês', 'sales'],\n",
    "     ['quais são os 10 produtos que mais vendi hoje', 'sales'],\n",
    "     ['qual produto eu mais vendi hoje', 'sales'],\n",
    "     # products\n",
    "     ['quantos produtos eu tenho na minha base', 'products'],\n",
    "     ['quantos produtos eu tenho na minha base de dados', 'products'],\n",
    "     ['quantos produtos eu tenho na minha loja', 'products'],\n",
    "     ['quantos refrigerantes eu vendo na minha loja', 'products'],\n",
    "     ['quanto é o preço da coca-cola', 'products'],\n",
    "     ['qual é o preço da coca-cola', 'products'],\n",
    "     ['quantos refrigerantes tenho no estoque', 'products']\n",
    " ], columns=['message', 'label'])\n",
    "\n",
    "'''\n",
    " PREPROCESSING TEXT\n",
    "'''\n",
    "\n",
    "def normalize(message):\n",
    "    normalized = unicodedata.normalize('NFKD', message).encode('ASCII', 'ignore').decode('utf-8')\n",
    "    return normalized\n",
    "\n",
    "def stem(message):\n",
    "    words = word_tokenize(message)\n",
    "    words = [stemmer.stem(word) for word in words]\n",
    "    return ' '.join(words)\n",
    "\n",
    "def remove_stopwords(message):\n",
    "    blacklist = set(stopwords.words('portuguese') + list(punctuation))\n",
    "    clean_words = [word for word in word_tokenize(message) if word not in blacklist]\n",
    "    return ' '.join(clean_words)\n",
    "\n",
    "def preprocess_message(message):\n",
    "    message = normalize(message)\n",
    "    message = remove_stopwords(message)\n",
    "#     message = stem(message)\n",
    "    return message\n",
    "\n",
    "def preprocess(df, column_in='message', column_out='message_clean'):\n",
    "    df[column_out] = df[column_in].apply(lambda message : preprocess_message(message))\n",
    "\n",
    "'''\n",
    " VECTORIZE\n",
    "'''\n",
    "def vectorize(df, column = 'message'):\n",
    "    X = vectorizer.fit_transform(df[column])\n",
    "    return X\n",
    "\n",
    "def vectorize_message(message):\n",
    "    return vectorizer.transform([message])\n",
    "\n",
    "'''\n",
    " PREDICTION\n",
    "'''\n",
    "def predict(model, message):\n",
    "    vector = vectorize_message(message)\n",
    "    predict_label = model.predict(vector)\n",
    "    predict_proba = model.predict_proba(vector)\n",
    "    return { 'label': predict_label, 'probability': predict_proba, 'classes': model.classes_ }"
   ]
  },
  {
   "cell_type": "code",
   "execution_count": 116,
   "metadata": {},
   "outputs": [
    {
     "name": "stdout",
     "output_type": "stream",
     "text": [
      "['10', 'agosto', 'ano', 'base', 'coca', 'cola', 'dados', 'estoque', 'hoje', 'loja', 'mes', 'preco', 'produto', 'produtos', 'quais', 'quanto', 'quantos', 'refrigerantes', 'sao', 'ultimo', 'vendas', 'vendi', 'vendo']\n",
      "corpus shape:  (14, 23)\n"
     ]
    }
   ],
   "source": [
    "preprocess(df, column_in='message', column_out='message_clean')\n",
    "X = vectorize(df, column='message_clean')\n",
    "\n",
    "print(vectorizer.get_feature_names())\n",
    "print('corpus shape: ', X.shape)"
   ]
  },
  {
   "cell_type": "code",
   "execution_count": 117,
   "metadata": {},
   "outputs": [],
   "source": [
    "model = clf.fit(X, df['label'])"
   ]
  },
  {
   "cell_type": "code",
   "execution_count": 118,
   "metadata": {},
   "outputs": [
    {
     "data": {
      "text/plain": [
       "{'label': array(['products'], dtype='<U8'),\n",
       " 'probability': array([[0.71838278, 0.28161722]]),\n",
       " 'classes': array(['products', 'sales'], dtype='<U8')}"
      ]
     },
     "execution_count": 118,
     "metadata": {},
     "output_type": "execute_result"
    }
   ],
   "source": [
    "predict(model, 'quantas coca-colas tenho no estoque?')"
   ]
  }
 ],
 "metadata": {
  "kernelspec": {
   "display_name": "Python 3",
   "language": "python",
   "name": "python3"
  },
  "language_info": {
   "codemirror_mode": {
    "name": "ipython",
    "version": 3
   },
   "file_extension": ".py",
   "mimetype": "text/x-python",
   "name": "python",
   "nbconvert_exporter": "python",
   "pygments_lexer": "ipython3",
   "version": "3.6.10"
  }
 },
 "nbformat": 4,
 "nbformat_minor": 4
}
