{
 "cells": [
  {
   "cell_type": "code",
   "execution_count": 1,
   "metadata": {},
   "outputs": [],
   "source": [
    "import spacy\n",
    "from spacy import displacy\n",
    "\n",
    "nlp = spacy.load('pt')"
   ]
  },
  {
   "cell_type": "markdown",
   "metadata": {},
   "source": [
    "# Named Entity Recognition\n",
    "\n",
    "Named Entities supported by Spacy: https://spacy.io/api/annotation#named-entities"
   ]
  },
  {
   "cell_type": "code",
   "execution_count": 2,
   "metadata": {},
   "outputs": [
    {
     "name": "stdout",
     "output_type": "stream",
     "text": [
      "Maria PER\n",
      "Paris LOC\n"
     ]
    }
   ],
   "source": [
    "doc = nlp('Maria está se mudando para Paris. No dia 01/02/2019 ela irá partir.')\n",
    "for entidade in doc.ents:\n",
    "    print(entidade.text, entidade.label_)"
   ]
  },
  {
   "cell_type": "code",
   "execution_count": 3,
   "metadata": {},
   "outputs": [
    {
     "data": {
      "text/html": [
       "<span class=\"tex2jax_ignore\"><div class=\"entities\" style=\"line-height: 2.5; direction: ltr\">\n",
       "<mark class=\"entity\" style=\"background: #ddd; padding: 0.45em 0.6em; margin: 0 0.25em; line-height: 1; border-radius: 0.35em;\">\n",
       "    Maria\n",
       "    <span style=\"font-size: 0.8em; font-weight: bold; line-height: 1; border-radius: 0.35em; text-transform: uppercase; vertical-align: middle; margin-left: 0.5rem\">PER</span>\n",
       "</mark>\n",
       " está se mudando para \n",
       "<mark class=\"entity\" style=\"background: #ff9561; padding: 0.45em 0.6em; margin: 0 0.25em; line-height: 1; border-radius: 0.35em;\">\n",
       "    Paris\n",
       "    <span style=\"font-size: 0.8em; font-weight: bold; line-height: 1; border-radius: 0.35em; text-transform: uppercase; vertical-align: middle; margin-left: 0.5rem\">LOC</span>\n",
       "</mark>\n",
       ". No dia 01/02/2019 ela irá partir.</div></span>"
      ],
      "text/plain": [
       "<IPython.core.display.HTML object>"
      ]
     },
     "metadata": {},
     "output_type": "display_data"
    }
   ],
   "source": [
    "displacy.render(doc, style='ent', jupyter=True)"
   ]
  },
  {
   "cell_type": "code",
   "execution_count": 4,
   "metadata": {},
   "outputs": [
    {
     "data": {
      "text/plain": [
       "'Named person or family.'"
      ]
     },
     "execution_count": 4,
     "metadata": {},
     "output_type": "execute_result"
    }
   ],
   "source": [
    "spacy.explain('PER')"
   ]
  },
  {
   "cell_type": "code",
   "execution_count": 5,
   "metadata": {},
   "outputs": [
    {
     "name": "stdout",
     "output_type": "stream",
     "text": [
      "Loaded model 'pt'\n",
      "Losses {'ner': 26.967837947885915}\n",
      "Losses {'ner': 25.38339074434542}\n",
      "Losses {'ner': 24.675209609953537}\n",
      "Losses {'ner': 16.55306489537213}\n",
      "Losses {'ner': 23.928378237463676}\n",
      "Losses {'ner': 27.73959219991957}\n",
      "Losses {'ner': 30.613730491642855}\n",
      "Losses {'ner': 15.423950874644106}\n",
      "Losses {'ner': 23.33050176337929}\n",
      "Losses {'ner': 18.218481086660177}\n",
      "Losses {'ner': 26.903662341763265}\n",
      "Losses {'ner': 18.080315225175582}\n",
      "Losses {'ner': 19.11660557515461}\n",
      "Losses {'ner': 18.372059826680925}\n",
      "Losses {'ner': 17.601169822155498}\n",
      "Losses {'ner': 19.62259830746916}\n",
      "Losses {'ner': 18.707242312542803}\n",
      "Losses {'ner': 21.21788588963682}\n",
      "Losses {'ner': 15.38832595932763}\n",
      "Losses {'ner': 19.142946683394257}\n",
      "Losses {'ner': 11.666053919229398}\n",
      "Losses {'ner': 12.440184484443307}\n",
      "Losses {'ner': 17.008277333545266}\n",
      "Losses {'ner': 22.44728426736401}\n",
      "Losses {'ner': 16.050916349978706}\n",
      "Losses {'ner': 15.379875017108134}\n",
      "Losses {'ner': 11.514700804189488}\n",
      "Losses {'ner': 12.159411488981128}\n",
      "Losses {'ner': 22.930736249184065}\n",
      "Losses {'ner': 18.276980479032318}\n",
      "Entities in 'quero meu relatório de vendas entre 01/02/2020 e 01/03/2020'\n",
      "MISC quero\n",
      "DATE 01/02/2020\n",
      "DATE 01/03/2020\n",
      "Saved model to modelo_kodama.md\n",
      "Loading from modelo_kodama.md\n",
      "MISC quero\n",
      "DATE 01/02/2020\n",
      "DATE 01/03/2020\n"
     ]
    }
   ],
   "source": [
    "# treinar o modelo com os novos dados\n",
    "!python train_new_entity_type.py -m pt -o modelo_kodama.md"
   ]
  },
  {
   "cell_type": "code",
   "execution_count": 6,
   "metadata": {},
   "outputs": [],
   "source": [
    "nlp = spacy.load('./modelo_kodama.md')"
   ]
  },
  {
   "cell_type": "code",
   "execution_count": 7,
   "metadata": {},
   "outputs": [
    {
     "data": {
      "text/html": [
       "<span class=\"tex2jax_ignore\"><div class=\"entities\" style=\"line-height: 2.5; direction: ltr\">\n",
       "<mark class=\"entity\" style=\"background: #ddd; padding: 0.45em 0.6em; margin: 0 0.25em; line-height: 1; border-radius: 0.35em;\">\n",
       "    quero\n",
       "    <span style=\"font-size: 0.8em; font-weight: bold; line-height: 1; border-radius: 0.35em; text-transform: uppercase; vertical-align: middle; margin-left: 0.5rem\">MISC</span>\n",
       "</mark>\n",
       " meu relatório de vendas entre \n",
       "<mark class=\"entity\" style=\"background: #bfe1d9; padding: 0.45em 0.6em; margin: 0 0.25em; line-height: 1; border-radius: 0.35em;\">\n",
       "    01/02/2020\n",
       "    <span style=\"font-size: 0.8em; font-weight: bold; line-height: 1; border-radius: 0.35em; text-transform: uppercase; vertical-align: middle; margin-left: 0.5rem\">DATE</span>\n",
       "</mark>\n",
       " e \n",
       "<mark class=\"entity\" style=\"background: #bfe1d9; padding: 0.45em 0.6em; margin: 0 0.25em; line-height: 1; border-radius: 0.35em;\">\n",
       "    01/03/2020\n",
       "    <span style=\"font-size: 0.8em; font-weight: bold; line-height: 1; border-radius: 0.35em; text-transform: uppercase; vertical-align: middle; margin-left: 0.5rem\">DATE</span>\n",
       "</mark>\n",
       "</div></span>"
      ],
      "text/plain": [
       "<IPython.core.display.HTML object>"
      ]
     },
     "metadata": {},
     "output_type": "display_data"
    }
   ],
   "source": [
    "doc = nlp('quero meu relatório de vendas entre 01/02/2020 e 01/03/2020')\n",
    "displacy.render(doc, style='ent', jupyter=True)"
   ]
  },
  {
   "cell_type": "markdown",
   "metadata": {},
   "source": [
    "Nós podemos observar que com um modelo probabislítico temos alguns problemas em identificar datas. Precisamos de mais exemplos e talvez nesse caso seja mais interessante utilizar uma abordagem baseda em regras (regex) e no caso de dados relativas como \"ultimo mes\" \"semestre de 2020\" podemos utilizar uma abordagem combinada com regras e bases de conhecimento"
   ]
  },
  {
   "cell_type": "markdown",
   "metadata": {},
   "source": [
    "# Rule based and Knowledge Based\n",
    "\n",
    "https://spacy.io/usage/rule-based-matching\n",
    "https://spacy.io/usage/rule-based-matching#entityruler"
   ]
  },
  {
   "cell_type": "code",
   "execution_count": 8,
   "metadata": {},
   "outputs": [
    {
     "name": "stdout",
     "output_type": "stream",
     "text": [
      "[('ultimo mês', 'DATE')]\n",
      "[('últimos 3 meses', 'DATE')]\n",
      "[('agosto', 'DATE')]\n",
      "[('março', 'DATE'), ('junho', 'DATE')]\n",
      "[('Maio', 'DATE'), ('Agosto', 'DATE')]\n",
      "[('abril', 'DATE'), ('junho', 'DATE')]\n",
      "[('hoje', 'DATE')]\n"
     ]
    }
   ],
   "source": [
    "from spacy.lang.pt import Portuguese\n",
    "from spacy.pipeline import EntityRuler\n",
    "\n",
    "nlp = Portuguese() # if you want to combina with existing prob model use spacy.load('pt')\n",
    "ruler = EntityRuler(nlp)\n",
    "patterns = [\n",
    "    {\n",
    "        'label': 'DATE', 'pattern': \n",
    "        [    # this will run per token and check the token sequence to match the rules\n",
    "            {'TEXT' : {\"REGEX\": \"[uú]ltimo\"} },\n",
    "            {'TEXT' : {\"REGEX\": \"m[êe]s\"} },\n",
    "        ], \n",
    "        'id': 'date'\n",
    "    },\n",
    "    {\n",
    "        'label': 'DATE', 'pattern': \n",
    "        [\n",
    "            {'TEXT' : {\"REGEX\": \"[uú]ltimo\"} },\n",
    "            {'TEXT' : {\"REGEX\": \"\\d\"} },\n",
    "            {'TEXT' : {\"REGEX\": \"m[êe]s\"} },\n",
    "        ], \n",
    "        'id': 'date'\n",
    "    },\n",
    "    {\n",
    "        'label': 'DATE', 'pattern': \n",
    "        [\n",
    "            {'TEXT' : {\"REGEX\": \"([Jj]aneiro|[Ff]evereiro|[Mm]ar[çc]o|[Aa]bril|[Mm]aio|[Jj]unho|[Jj]ulho|[Aa]gosto|[Ss]etembro|[Oo]utubro|[Nn]ovembro|[Dd]ezembro)\"} }\n",
    "        ], \n",
    "        'id': 'date'\n",
    "    }, {\n",
    "        'label': 'DATE', 'pattern': \n",
    "        [\n",
    "            {'TEXT' : {\"REGEX\": \"(hoje|ontem)\"} }\n",
    "        ], \n",
    "        'id': 'date'\n",
    "    }\n",
    "]\n",
    "ruler.add_patterns(patterns)\n",
    "nlp.add_pipe(ruler)\n",
    "\n",
    "messages = [\n",
    "    'quero relatório de vendas do ultimo mês',\n",
    "    'como foram as minhas vendas nos últimos 3 meses',\n",
    "    'vendas do mês de agosto',\n",
    "    'minhas vendas do mes de março até junho',\n",
    "    'como foram as minhas vendas entre Maio e Agosto',\n",
    "    'quanto vendi entre abril e junho?',\n",
    "    'qual produto eu mais vendi hoje'\n",
    "]\n",
    "\n",
    "def test_date_entity(messages):\n",
    "    for message in messages:\n",
    "        doc = nlp(message)\n",
    "        print([(ent.text, ent.label_) for ent in doc.ents])\n",
    "\n",
    "test_date_entity(messages)\n",
    "\n",
    "# nlp.to_disk(\"/path/to/model\") saving model"
   ]
  },
  {
   "cell_type": "markdown",
   "metadata": {},
   "source": [
    "# Dictionary based"
   ]
  },
  {
   "cell_type": "code",
   "execution_count": 9,
   "metadata": {},
   "outputs": [],
   "source": [
    "from src.ner import NER"
   ]
  },
  {
   "cell_type": "code",
   "execution_count": 10,
   "metadata": {},
   "outputs": [
    {
     "data": {
      "text/plain": [
       "[('coca colas', 'PRODUCT')]"
      ]
     },
     "execution_count": 10,
     "metadata": {},
     "output_type": "execute_result"
    }
   ],
   "source": [
    "ner = NER(['parmegiana de frango', 'bife a parmegiana', 'refrigerante coca-cola', 'heineken 600ml'])\n",
    "ner.vectorizer.vocabulary_\n",
    "ner.recognize('quantas coca-colas tenho no estoque ?', algo='edit_distance')"
   ]
  }
 ],
 "metadata": {
  "kernelspec": {
   "display_name": "Python 3",
   "language": "python",
   "name": "python3"
  },
  "language_info": {
   "codemirror_mode": {
    "name": "ipython",
    "version": 3
   },
   "file_extension": ".py",
   "mimetype": "text/x-python",
   "name": "python",
   "nbconvert_exporter": "python",
   "pygments_lexer": "ipython3",
   "version": "3.6.10"
  }
 },
 "nbformat": 4,
 "nbformat_minor": 4
}
