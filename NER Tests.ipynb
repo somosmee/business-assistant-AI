{
 "cells": [
  {
   "cell_type": "code",
   "execution_count": 7,
   "metadata": {},
   "outputs": [],
   "source": [
    "import spacy\n",
    "from spacy import displacy\n",
    "\n",
    "nlp = spacy.load('pt')"
   ]
  },
  {
   "cell_type": "markdown",
   "metadata": {},
   "source": [
    "# Named Entity Recognition\n",
    "\n",
    "Named Entities supported by Spacy: https://spacy.io/api/annotation#named-entities"
   ]
  },
  {
   "cell_type": "code",
   "execution_count": 8,
   "metadata": {},
   "outputs": [
    {
     "name": "stdout",
     "output_type": "stream",
     "text": [
      "Maria PER\n",
      "Paris LOC\n"
     ]
    }
   ],
   "source": [
    "doc = nlp('Maria está se mudando para Paris. No dia 01/02/2019 ela irá partir.')\n",
    "for entidade in doc.ents:\n",
    "    print(entidade.text, entidade.label_)"
   ]
  },
  {
   "cell_type": "code",
   "execution_count": 9,
   "metadata": {},
   "outputs": [
    {
     "data": {
      "text/html": [
       "<span class=\"tex2jax_ignore\"><div class=\"entities\" style=\"line-height: 2.5; direction: ltr\">\n",
       "<mark class=\"entity\" style=\"background: #ddd; padding: 0.45em 0.6em; margin: 0 0.25em; line-height: 1; border-radius: 0.35em;\">\n",
       "    Maria\n",
       "    <span style=\"font-size: 0.8em; font-weight: bold; line-height: 1; border-radius: 0.35em; text-transform: uppercase; vertical-align: middle; margin-left: 0.5rem\">PER</span>\n",
       "</mark>\n",
       " está se mudando para \n",
       "<mark class=\"entity\" style=\"background: #ff9561; padding: 0.45em 0.6em; margin: 0 0.25em; line-height: 1; border-radius: 0.35em;\">\n",
       "    Paris\n",
       "    <span style=\"font-size: 0.8em; font-weight: bold; line-height: 1; border-radius: 0.35em; text-transform: uppercase; vertical-align: middle; margin-left: 0.5rem\">LOC</span>\n",
       "</mark>\n",
       ". No dia 01/02/2019 ela irá partir.</div></span>"
      ],
      "text/plain": [
       "<IPython.core.display.HTML object>"
      ]
     },
     "metadata": {},
     "output_type": "display_data"
    }
   ],
   "source": [
    "displacy.render(doc, style='ent', jupyter=True)"
   ]
  },
  {
   "cell_type": "code",
   "execution_count": 10,
   "metadata": {},
   "outputs": [
    {
     "data": {
      "text/plain": [
       "'Named person or family.'"
      ]
     },
     "execution_count": 10,
     "metadata": {},
     "output_type": "execute_result"
    }
   ],
   "source": [
    "spacy.explain('PER')"
   ]
  },
  {
   "cell_type": "code",
   "execution_count": 11,
   "metadata": {},
   "outputs": [
    {
     "name": "stdout",
     "output_type": "stream",
     "text": [
      "Loaded model 'pt'\n",
      "Losses {'ner': 28.863803359615147}\n",
      "Losses {'ner': 32.39045933138531}\n",
      "Losses {'ner': 11.391073097512754}\n",
      "Losses {'ner': 26.009125748670613}\n",
      "Losses {'ner': 24.092321053143678}\n",
      "Losses {'ner': 22.271839798897318}\n",
      "Losses {'ner': 22.498803939233767}\n",
      "Losses {'ner': 19.13334190985188}\n",
      "Losses {'ner': 24.209166664630175}\n",
      "Losses {'ner': 22.854396803304553}\n",
      "Losses {'ner': 19.715164292836562}\n",
      "Losses {'ner': 21.714835434017004}\n",
      "Losses {'ner': 20.43978180392878}\n",
      "Losses {'ner': 13.057981245525298}\n",
      "Losses {'ner': 20.726609552279115}\n",
      "Losses {'ner': 17.836472530849278}\n",
      "Losses {'ner': 17.474963728920557}\n",
      "Losses {'ner': 16.901229339608108}\n",
      "Losses {'ner': 19.732362221402582}\n",
      "Losses {'ner': 16.18024340257398}\n",
      "Losses {'ner': 18.116847230314306}\n",
      "Losses {'ner': 16.17568147356178}\n",
      "Losses {'ner': 14.888211632585637}\n",
      "Losses {'ner': 20.093955073025427}\n",
      "Losses {'ner': 15.860328152427378}\n",
      "Losses {'ner': 15.769552267673134}\n",
      "Losses {'ner': 13.79833963389683}\n",
      "Losses {'ner': 22.195501245319065}\n",
      "Losses {'ner': 16.340111525015345}\n",
      "Losses {'ner': 16.778236576411928}\n",
      "Entities in 'quero meu relatório de vendas entre 01/02/2020 e 01/03/2020'\n",
      "DATE quero\n",
      "DATE 01/02/2020\n",
      "DATE 01/03/2020\n",
      "Saved model to modelo_kodama.md\n",
      "Loading from modelo_kodama.md\n",
      "DATE quero\n",
      "DATE 01/02/2020\n",
      "DATE 01/03/2020\n"
     ]
    }
   ],
   "source": [
    "# treinar o modelo com os novos dados\n",
    "!python train_new_entity_type.py -m pt -o modelo_kodama.md"
   ]
  },
  {
   "cell_type": "code",
   "execution_count": 12,
   "metadata": {},
   "outputs": [],
   "source": [
    "nlp = spacy.load('./modelo_kodama.md')"
   ]
  },
  {
   "cell_type": "code",
   "execution_count": 13,
   "metadata": {},
   "outputs": [
    {
     "data": {
      "text/html": [
       "<span class=\"tex2jax_ignore\"><div class=\"entities\" style=\"line-height: 2.5; direction: ltr\">\n",
       "<mark class=\"entity\" style=\"background: #bfe1d9; padding: 0.45em 0.6em; margin: 0 0.25em; line-height: 1; border-radius: 0.35em;\">\n",
       "    quero\n",
       "    <span style=\"font-size: 0.8em; font-weight: bold; line-height: 1; border-radius: 0.35em; text-transform: uppercase; vertical-align: middle; margin-left: 0.5rem\">DATE</span>\n",
       "</mark>\n",
       " meu relatório de vendas entre \n",
       "<mark class=\"entity\" style=\"background: #bfe1d9; padding: 0.45em 0.6em; margin: 0 0.25em; line-height: 1; border-radius: 0.35em;\">\n",
       "    01/02/2020\n",
       "    <span style=\"font-size: 0.8em; font-weight: bold; line-height: 1; border-radius: 0.35em; text-transform: uppercase; vertical-align: middle; margin-left: 0.5rem\">DATE</span>\n",
       "</mark>\n",
       " e \n",
       "<mark class=\"entity\" style=\"background: #bfe1d9; padding: 0.45em 0.6em; margin: 0 0.25em; line-height: 1; border-radius: 0.35em;\">\n",
       "    01/03/2020\n",
       "    <span style=\"font-size: 0.8em; font-weight: bold; line-height: 1; border-radius: 0.35em; text-transform: uppercase; vertical-align: middle; margin-left: 0.5rem\">DATE</span>\n",
       "</mark>\n",
       "</div></span>"
      ],
      "text/plain": [
       "<IPython.core.display.HTML object>"
      ]
     },
     "metadata": {},
     "output_type": "display_data"
    }
   ],
   "source": [
    "doc = nlp('quero meu relatório de vendas entre 01/02/2020 e 01/03/2020')\n",
    "displacy.render(doc, style='ent', jupyter=True)"
   ]
  },
  {
   "cell_type": "markdown",
   "metadata": {},
   "source": [
    "Nós podemos observar que com um modelo probabislítico temos alguns problemas em identificar datas. Precisamos de mais exemplos e talvez nesse caso seja mais interessante utilizar uma abordagem baseda em regras (regex) e no caso de dados relativas como \"ultimo mes\" \"semestre de 2020\" podemos utilizar uma abordagem combinada com regras e bases de conhecimento"
   ]
  },
  {
   "cell_type": "markdown",
   "metadata": {},
   "source": [
    "# Rule based and Knowledge Based\n",
    "\n",
    "https://spacy.io/usage/rule-based-matching\n",
    "https://spacy.io/usage/rule-based-matching#entityruler"
   ]
  },
  {
   "cell_type": "code",
   "execution_count": 14,
   "metadata": {},
   "outputs": [
    {
     "name": "stdout",
     "output_type": "stream",
     "text": [
      "[('ultimo mês', 'DATE')]\n",
      "[('últimos 3 meses', 'DATE')]\n",
      "[('agosto', 'DATE')]\n",
      "[('março', 'DATE'), ('junho', 'DATE')]\n",
      "[('Maio', 'DATE'), ('Agosto', 'DATE')]\n",
      "[('abril', 'DATE'), ('junho', 'DATE')]\n",
      "[('hoje', 'DATE')]\n"
     ]
    }
   ],
   "source": [
    "from spacy.lang.pt import Portuguese\n",
    "from spacy.pipeline import EntityRuler\n",
    "\n",
    "nlp = Portuguese() # if you want to combina with existing prob model use spacy.load('pt')\n",
    "ruler = EntityRuler(nlp)\n",
    "patterns = [\n",
    "    {\n",
    "        'label': 'DATE', 'pattern': \n",
    "        [    # this will run per token and check the token sequence to match the rules\n",
    "            {'TEXT' : {\"REGEX\": \"[uú]ltimo\"} },\n",
    "            {'TEXT' : {\"REGEX\": \"m[êe]s\"} },\n",
    "        ], \n",
    "        'id': 'date'\n",
    "    },\n",
    "    {\n",
    "        'label': 'DATE', 'pattern': \n",
    "        [\n",
    "            {'TEXT' : {\"REGEX\": \"[uú]ltimo\"} },\n",
    "            {'TEXT' : {\"REGEX\": \"\\d\"} },\n",
    "            {'TEXT' : {\"REGEX\": \"m[êe]s\"} },\n",
    "        ], \n",
    "        'id': 'date'\n",
    "    },\n",
    "    {\n",
    "        'label': 'DATE', 'pattern': \n",
    "        [\n",
    "            {'TEXT' : {\"REGEX\": \"([Jj]aneiro|[Ff]evereiro|[Mm]ar[çc]o|[Aa]bril|[Mm]aio|[Jj]unho|[Jj]ulho|[Aa]gosto|[Ss]etembro|[Oo]utubro|[Nn]ovembro|[Dd]ezembro)\"} }\n",
    "        ], \n",
    "        'id': 'date'\n",
    "    }, {\n",
    "        'label': 'DATE', 'pattern': \n",
    "        [\n",
    "            {'TEXT' : {\"REGEX\": \"(hoje|ontem)\"} }\n",
    "        ], \n",
    "        'id': 'date'\n",
    "    }\n",
    "]\n",
    "ruler.add_patterns(patterns)\n",
    "nlp.add_pipe(ruler)\n",
    "\n",
    "messages = [\n",
    "    'quero relatório de vendas do ultimo mês',\n",
    "    'como foram as minhas vendas nos últimos 3 meses',\n",
    "    'vendas do mês de agosto',\n",
    "    'minhas vendas do mes de março até junho',\n",
    "    'como foram as minhas vendas entre Maio e Agosto',\n",
    "    'quanto vendi entre abril e junho?',\n",
    "    'qual produto eu mais vendi hoje'\n",
    "]\n",
    "\n",
    "def test_date_entity(messages):\n",
    "    for message in messages:\n",
    "        doc = nlp(message)\n",
    "        print([(ent.text, ent.label_) for ent in doc.ents])\n",
    "\n",
    "test_date_entity(messages)\n",
    "\n",
    "# nlp.to_disk(\"/path/to/model\") saving model"
   ]
  }
 ],
 "metadata": {
  "kernelspec": {
   "display_name": "Python 3",
   "language": "python",
   "name": "python3"
  },
  "language_info": {
   "codemirror_mode": {
    "name": "ipython",
    "version": 3
   },
   "file_extension": ".py",
   "mimetype": "text/x-python",
   "name": "python",
   "nbconvert_exporter": "python",
   "pygments_lexer": "ipython3",
   "version": "3.6.10"
  }
 },
 "nbformat": 4,
 "nbformat_minor": 4
}
